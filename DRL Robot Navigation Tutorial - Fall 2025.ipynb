{
 "cells": [
  {
   "cell_type": "markdown",
   "id": "17c1b5fc-3943-459d-a2b7-d5c33578f370",
   "metadata": {},
   "source": [
    "<h1> DRL Robot Navigation with ROS2 - Documentation </h1>\n",
    "<h4> Written by Mark Wanis & Jaran Mann, Fall 2025 </h4>"
   ]
  },
  {
   "cell_type": "code",
   "execution_count": 16,
   "id": "b02f5fdf-6419-4b90-84b0-cdea9102ac52",
   "metadata": {},
   "outputs": [
    {
     "name": "stdout",
     "output_type": "stream",
     "text": [
      "Requirement already satisfied: pandas in c:\\users\\marko\\anaconda3\\lib\\site-packages (2.2.2)\n",
      "Requirement already satisfied: numpy>=1.26.0 in c:\\users\\marko\\anaconda3\\lib\\site-packages (from pandas) (1.26.4)\n",
      "Requirement already satisfied: python-dateutil>=2.8.2 in c:\\users\\marko\\anaconda3\\lib\\site-packages (from pandas) (2.9.0.post0)\n",
      "Requirement already satisfied: pytz>=2020.1 in c:\\users\\marko\\anaconda3\\lib\\site-packages (from pandas) (2024.1)\n",
      "Requirement already satisfied: tzdata>=2022.7 in c:\\users\\marko\\anaconda3\\lib\\site-packages (from pandas) (2023.3)\n",
      "Requirement already satisfied: six>=1.5 in c:\\users\\marko\\anaconda3\\lib\\site-packages (from python-dateutil>=2.8.2->pandas) (1.16.0)\n",
      "Requirement already satisfied: matplotlib in c:\\users\\marko\\anaconda3\\lib\\site-packages (3.9.2)\n",
      "Requirement already satisfied: contourpy>=1.0.1 in c:\\users\\marko\\anaconda3\\lib\\site-packages (from matplotlib) (1.2.0)\n",
      "Requirement already satisfied: cycler>=0.10 in c:\\users\\marko\\anaconda3\\lib\\site-packages (from matplotlib) (0.11.0)\n",
      "Requirement already satisfied: fonttools>=4.22.0 in c:\\users\\marko\\anaconda3\\lib\\site-packages (from matplotlib) (4.51.0)\n",
      "Requirement already satisfied: kiwisolver>=1.3.1 in c:\\users\\marko\\anaconda3\\lib\\site-packages (from matplotlib) (1.4.4)\n",
      "Requirement already satisfied: numpy>=1.23 in c:\\users\\marko\\anaconda3\\lib\\site-packages (from matplotlib) (1.26.4)\n",
      "Requirement already satisfied: packaging>=20.0 in c:\\users\\marko\\anaconda3\\lib\\site-packages (from matplotlib) (24.1)\n",
      "Requirement already satisfied: pillow>=8 in c:\\users\\marko\\anaconda3\\lib\\site-packages (from matplotlib) (10.4.0)\n",
      "Requirement already satisfied: pyparsing>=2.3.1 in c:\\users\\marko\\anaconda3\\lib\\site-packages (from matplotlib) (3.1.2)\n",
      "Requirement already satisfied: python-dateutil>=2.7 in c:\\users\\marko\\anaconda3\\lib\\site-packages (from matplotlib) (2.9.0.post0)\n",
      "Requirement already satisfied: six>=1.5 in c:\\users\\marko\\anaconda3\\lib\\site-packages (from python-dateutil>=2.7->matplotlib) (1.16.0)\n"
     ]
    }
   ],
   "source": [
    "!pip install pandas\n",
    "!pip install matplotlib"
   ]
  },
  {
   "cell_type": "markdown",
   "id": "0d463377-73bf-48f6-a0d9-ce5c16e4b300",
   "metadata": {},
   "source": [
    "<h2> <b>Introduction</b> </h2>\n",
    "<p>The goal of this project is developing a strong foundation in being able to manipulate every aspect of the Turtlebot. Once a solid foundation is developed, it aims to use machine learning to navigate the Turtlebot around obsticles towards its destination in real time.  We aim to use online simulations, via Gazebo, prior to implementing machine learning into the physical robots.  Through proper testing and optimizing, the new functions will allow for a more advanced level of artificial intelligence in the turtlebots. </p>\n",
    "\n",
    "<h2>Turtlebot/ROS Basic Operations</h2>\n",
    "<p>Always refer to this website if there are any questions regarding setups and operations: <a href=\"https://emanual.robotis.com/docs/en/platform/turtlebot3/quick-start/\">https://emanual.robotis.com/docs/en/platform/turtlebot3/quick-start/</a></p>\n",
    "\n",
    "<h3>Creating workspaces</h3>\n",
    "<p>To create workspaces:</p>\n",
    "<pre><code>$ ros2 pkg create --build-type ament_python [name (eg. turtlelab5)]\n",
    "$ cd turtlelab5/turtlelab5\n",
    "$ wget https://raw.githubusercontent.com/ROBOTIS-GIT/turtlebot3/humble-devel/turtlebot3_example/turtlebot3_example/turtlebot3_obstacle_detection/main.py\n",
    "$ wget https://raw.githubusercontent.com/ROBOTIS-GIT/turtlebot3/humble-devel/turtlebot3_example/turtlebot3_example/turtlebot3_obstacle_detection/turtlebot3_obstacle_detection.py\n",
    "</code></pre>\n",
    "\n",
    "<h3>Connecting to/configuring Turtlebots</h3>\n",
    "<p>Here are some main commands and information that will be needed.</p>\n",
    "<p style=\"text-indent: 2em;\">The address of Turtlebot 53: MAC:9D / IP:192.168.2.2 (the IP address changes)</p>\n",
    "\n",
    "<p>To launch the Turtlebot, type the following commands in the terminal:</p>\n",
    "<pre><code>$ ssh ubuntu@{IP_ADDRESS}\n",
    "$ ros2 launch turtlebot3_bringup robot.launch.py\n",
    "</code></pre>\n",
    "\n",
    "<p>After launching the Turtlebot, open a new terminal and run these commands to connect with the Turtlebot:</p>\n",
    "<pre><code>$ export ROS_DOMAIN_ID=53\n",
    "$ export RMW_IMPLEMENTATION=rmw_fastrtps_cpp\n",
    "$ export TURTLEBOT3_MODEL=burger\n",
    "</code></pre>\n",
    "\n",
    "<p>To build or update the workspace:</p>\n",
    "<pre><code>$ cd to back to colcon_ws\n",
    "$ colcon build --packages-select turtlelab5\n",
    "$ source install/setup.bash\n",
    "</code></pre>\n",
    "\n",
    "<p>Programs to run:</p>\n",
    "<pre><code>$ ros2 run turtlebot3_teleop teleop_keyboard\n",
    "$ ros2 run turtlelab5 go\n",
    "</code></pre>"
   ]
  },
  {
   "cell_type": "code",
   "execution_count": null,
   "id": "e1409103-dce0-4582-a9c9-e48dc1a04bb6",
   "metadata": {},
   "outputs": [],
   "source": []
  }
 ],
 "metadata": {
  "kernelspec": {
   "display_name": "Python 3 (ipykernel)",
   "language": "python",
   "name": "python3"
  },
  "language_info": {
   "codemirror_mode": {
    "name": "ipython",
    "version": 3
   },
   "file_extension": ".py",
   "mimetype": "text/x-python",
   "name": "python",
   "nbconvert_exporter": "python",
   "pygments_lexer": "ipython3",
   "version": "3.12.7"
  }
 },
 "nbformat": 4,
 "nbformat_minor": 5
}
