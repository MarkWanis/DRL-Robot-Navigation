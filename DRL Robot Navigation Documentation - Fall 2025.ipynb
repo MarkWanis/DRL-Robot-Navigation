{
 "cells": [
  {
   "cell_type": "markdown",
   "id": "17c1b5fc-3943-459d-a2b7-d5c33578f370",
   "metadata": {},
   "source": [
    "<h1> DRL Robot Navigation with ROS2 - Documentation </h1>\n",
    "<h4> Written by Mark Wanis & Jaran Mann, Fall 2025 </h4>"
   ]
  },
  {
   "cell_type": "markdown",
   "id": "a972ae84-ad9e-448f-ba12-65a83ad227d3",
   "metadata": {},
   "source": [
    "<h2> <b> Code Documentation </b> </h2>"
   ]
  },
  {
   "cell_type": "markdown",
   "id": "8f27ab94-e984-470d-8f52-233fefbd958b",
   "metadata": {},
   "source": [
    "<h3> Imports </h3>"
   ]
  },
  {
   "cell_type": "code",
   "execution_count": null,
   "id": "239ec274-d069-48e6-b407-124792f1be44",
   "metadata": {},
   "outputs": [],
   "source": [
    "import rclpy\n",
    "from geometry_msgs.msg import Twist\n",
    "from nav_msgs.msg import Odometry\n",
    "from rclpy.node import Node\n",
    "from rclpy.qos import QoSProfile, ReliabilityPolicy, HistoryPolicy, DurabilityPolicy\n",
    "\n",
    "# The packages for the laser scanner\n",
    "# Make sure that you have <exec_depend>sensor_msgs</exec_depend> in the xml file\n",
    "from rclpy.qos import qos_profile_sensor_data\n",
    "from sensor_msgs.msg import LaserScan\n",
    "from sensor_msgs.msg import Imu\n",
    "\n",
    "# The data type for the timestamp\n",
    "from builtin_interfaces.msg import Time\n",
    "\n",
    "import math # This is for getting math.pi\n",
    "import numpy as np\n",
    "import csv\n",
    "import sys"
   ]
  },
  {
   "cell_type": "markdown",
   "id": "59bc2032-2306-4474-9ca6-3a6c6b9e1003",
   "metadata": {},
   "source": [
    "<h2> <b> Daily Documentation </b> </h2>"
   ]
  },
  {
   "cell_type": "markdown",
   "id": "43068efe-df27-46de-b11f-355b15920bd7",
   "metadata": {},
   "source": [
    "<h3> Date: 9/10/25</h3>\n",
    "\n",
    "<h4> <b> Meeting Overview: </b> </h4>\n",
    "<p> We need to get comfortable with manipulating both the inputs and outputs of the robot. </p>\n",
    "\n",
    "<p> <b> Inputs: </b> </p>\n",
    "<ul>\n",
    "<li> Lidar </li>\n",
    "<li> Odometry </li>\n",
    "    <ul>\n",
    "        <li>Position </li>\n",
    "        <li>Velocity </li>\n",
    "    </ul>\n",
    "<li> Gyroscope </li>\n",
    "    <ul>\n",
    "        <li>Heading</li>\n",
    "    </ul>\n",
    "<li> Raspberry Pi Camera (Low priority)</li>\n",
    "<li> Time </li>\n",
    "</ul>\n",
    "\n",
    "<p> <b> Outputs: </b> </p>\n",
    "<ul>\n",
    "<li> Linear Velocity </li>\n",
    "<li> Angular Velocity </li>\n",
    "</ul>\n",
    "\n",
    "<h4> <b> Lab Overview: </b> </h4>\n",
    "\n",
    "<p> Objective: Tell the robot to go to different spots on the ground while recording all of the data. </p>\n",
    "\n",
    "<h5> <b> How the program manipulates each input and output </b> </h5>\n",
    "<ul>\n",
    "<li>Lidar</li>\n",
    "</ul>"
   ]
  },
  {
   "cell_type": "code",
   "execution_count": null,
   "id": "dcd77478-c6a5-46cc-8ae9-db078fdbc275",
   "metadata": {},
   "outputs": [],
   "source": [
    "# Found in def __init__(self):\n",
    "    # These are to check if the sensor data is being received\n",
    "    self.scannerReceived = False\n",
    "    # This list will hold all the values of the laser scanner\n",
    "    self.scan_ranges = []\n",
    "    # The angle in radians between each scan\n",
    "    self.angle_increment = 0.0\n",
    "    \n",
    "    # Create subscriber to the laser scanner\n",
    "    self.scan_sub = self.create_subscription(\n",
    "        LaserScan,\n",
    "        'scan',\n",
    "        self.scan_callback,\n",
    "        qos_profile=qos_profile_sensor_data)\n",
    "\n",
    "\n",
    "# Every time the laser scanner data has been received from the turtlebot\n",
    "def scan_callback(self, msg):\n",
    "    # Set the scan_ranges list to be the current ranges from the scanner\n",
    "    self.scan_ranges = msg.ranges\n",
    "    # Set the angle between the scans\n",
    "    self.angle_increment = msg.angle_increment\n",
    "\n",
    "    self.scannerReceived = True"
   ]
  },
  {
   "cell_type": "markdown",
   "id": "c6bfebd2-82a4-404c-b485-0021da824f64",
   "metadata": {},
   "source": [
    "<ul>\n",
    "<li>Odometry</li>\n",
    "    <ul>\n",
    "        <li>Position </li>\n",
    "        <li>Velocity </li>\n",
    "    </ul>\n",
    "</ul>"
   ]
  },
  {
   "cell_type": "code",
   "execution_count": null,
   "id": "89b60c18-b50b-4136-8242-896350eb1d3b",
   "metadata": {},
   "outputs": [],
   "source": [
    "# Found in def __init__(self):\n",
    "    # These are to check if the sensor data is being received\n",
    "    self.odomReceived = False\n",
    "    self.location_init = Point2D()\n",
    "    self.location = Point2D()\n",
    "    self.velocity_odom = Velocity()\n",
    "    \n",
    "    # Create the subscriber to the odometry\n",
    "    self.odom_sub = self.create_subscription(\n",
    "        Odometry,\n",
    "        'odom',\n",
    "        self.odom_callback,\n",
    "        qos)\n",
    "\n",
    "\n",
    "# Every time the odometry data has been received from the turtlebot\n",
    "def odom_callback(self, msg):\n",
    "    # The first time, set the initial values\n",
    "    if self.odomReceived == False:\n",
    "        self.location_init.x = msg.pose.pose.position.x\n",
    "        self.location_init.y = msg.pose.pose.position.y\n",
    "        self.odomReceived = True\n",
    "    \n",
    "    # Determine the x and y location from the difference of the odometry and initial values\n",
    "    # This way, the values will always start at (0,0)\n",
    "    self.location.x = msg.pose.pose.position.x - self.location_init.x\n",
    "    self.location.y = msg.pose.pose.position.y - self.location_init.y\n",
    "\n",
    "    # Updates the actual velocity found from the odometry\n",
    "    self.velocity_odom.linear = msg.twist.twist.linear.x\n",
    "    self.velocity_odom.angular = msg.twist.twist.angular.z"
   ]
  },
  {
   "cell_type": "markdown",
   "id": "83058b38-3772-477e-a5e2-4da308ea2dd6",
   "metadata": {},
   "source": [
    "<ul>\n",
    "    <li>Gyroscope</li>\n",
    "    <ul>\n",
    "        <li>Heading</li>\n",
    "    </ul>\n",
    "</ul>"
   ]
  },
  {
   "cell_type": "code",
   "execution_count": null,
   "id": "2bc5efc4-9b58-489f-a003-019dcaec3bfb",
   "metadata": {},
   "outputs": [],
   "source": [
    "# Found in def __init__(self):\n",
    "    # These are to check if the sensor data is being received\n",
    "    self.imuReceived = False\n",
    "    # Starting theta angle\n",
    "    self.heading_init = 0.0\n",
    "    # Theta angle\n",
    "    self.heading = 0.0\n",
    "    \n",
    "    # Create subscriber to the IMU\n",
    "    self.imu_sub = self.create_subscription(\n",
    "        Imu,\n",
    "        'imu',\n",
    "        self.imu_callback,\n",
    "        qos_profile=qos_profile_sensor_data)\n",
    "\n",
    "\n",
    "# Inertial subscriber\n",
    "def imu_callback(self, msg):\n",
    "    #get the angle information in quaternion format\n",
    "    qx = msg.orientation.x\n",
    "    qy = msg.orientation.y\n",
    "    qz = msg.orientation.z\n",
    "    qw = msg.orientation.w\n",
    "    #convert to Euler angle (we only need z direction)\n",
    "    t3 = +2.0 * (qw * qz + qx * qy)\n",
    "    t4 = +1.0 - 2.0 * (qy * qy + qz * qz)\n",
    "    self.heading = math.atan2(t3, t4)/np.pi #Euler angle in pi-radians (-1 to 1?!)\n",
    "\n",
    "    if self.heading >= 0:\n",
    "        self.heading *= math.pi\n",
    "    else:\n",
    "        self.heading = self.heading * math.pi + 2.0 * math.pi\n",
    "        \n",
    "    if not self.imuReceived:\n",
    "        self.heading_init = self.heading\n",
    "        self.imuReceived = True"
   ]
  },
  {
   "cell_type": "markdown",
   "id": "f99a6da1-0693-4006-86ea-19d0dde4cc79",
   "metadata": {},
   "source": [
    "<ul>\n",
    "<li> Time </li>\n",
    "</ul>"
   ]
  },
  {
   "cell_type": "code",
   "execution_count": null,
   "id": "0723d025-ae26-4ddd-a91d-4f9856f6e7ca",
   "metadata": {},
   "outputs": [],
   "source": [
    "# Found in def __init__(self):\n",
    "    # Timestamp variables\n",
    "    self.start_time = self.get_clock().now().to_msg()\n",
    "    self.scan_time = Time()\n",
    "    self.odom_time = Time()\n",
    "    self.imu_time = Time()\n",
    "    self.current_time = Time()\n",
    "    \n",
    "    # This timer is used to update the current time\n",
    "    self.time_timer = self.create_timer(\n",
    "        0.01,  # unit: s\n",
    "        self.update_time)\n",
    "\n",
    "\n",
    "# Updates the current time\n",
    "def update_time(self):\n",
    "    self.current_time = self.get_clock().now().to_msg()\n",
    "\n",
    "    \n",
    "# Found in def scan_callback(self, msg):\n",
    "    # Set the time taken for a full scan\n",
    "    self.scan_time = msg.header.stamp\n",
    "\n",
    "\n",
    "# Found in def odom_callback(self, msg):\n",
    "    # Set the time taken for the odometry reading\n",
    "    self.odom_time = msg.header.stamp"
   ]
  },
  {
   "cell_type": "markdown",
   "id": "3a71c7f4-3020-425a-95cc-3c774c460c0d",
   "metadata": {},
   "source": [
    "<ul>\n",
    "<li> Linear Velocity </li>\n",
    "<li> Angular Velocity </li>\n",
    "</ul>"
   ]
  },
  {
   "cell_type": "code",
   "execution_count": null,
   "id": "09988a12-fdc2-48bd-8a94-1b1eb326725f",
   "metadata": {},
   "outputs": [],
   "source": [
    "# Found in def __init__(self):\n",
    "    # This sets the velocity that we want the turtlebot to move\n",
    "    self.linear_velocity = 0.0  # unit: m/s\n",
    "    self.angular_velocity = 0.0  # unit: radians/s\n",
    "    # Create the publisher for the velocity\n",
    "    self.cmd_vel_pub = self.create_publisher(Twist, 'cmd_vel', qos)\n",
    "\n",
    "\n",
    "# Updates robot's velocity and publishes to the turtlebot\n",
    "def update_velocity(self):\n",
    "    twist = Twist()\n",
    "    twist.linear.x = self.linear_velocity\n",
    "    twist.angular.z = self.angular_velocity\n",
    "    self.cmd_vel_pub.publish(twist)"
   ]
  },
  {
   "cell_type": "markdown",
   "id": "e63d666d-0f15-4602-ba12-8d00345305be",
   "metadata": {},
   "source": [
    "<h3> Date: 9/17/25</h3>\n",
    "\n",
    "<h4> <b> Meeting Overview: </b> </h4>\n",
    "\n",
    "<h5> <b> To-do List </b> </h5>\n",
    "<ul>\n",
    "    <li>Grasp the fundamentals</li>\n",
    "    <li>Be able to grab the info and timestamps for each of the inputs and outputs</li>\n",
    "    <li>Low priority: grasp the basics of the Raspberry Pi</li>\n",
    "    <li>Test and graph the response time of the robot's change in linear and angular</li>\n",
    "    <li>Learn about the gazebo environment and document how to do it</li>\n",
    "</ul>\n",
    "\n",
    "<h4> <b> Lab Overview: </b> </h4>\n",
    "\n",
    "<h5> <b> Outline: </b> </h5>\n",
    "<ul>\n",
    "    <li>Worked on printing more variables and finding the timestamps</li>\n",
    "    <li>Created the Point2D and Velocity classes</li>\n",
    "</ul>"
   ]
  },
  {
   "cell_type": "code",
   "execution_count": null,
   "id": "bfebe07b-f45f-41b4-828a-2fff25928747",
   "metadata": {},
   "outputs": [],
   "source": [
    "class Velocity:\n",
    "    def __init__(self, linear=0.0, angular=0.0):\n",
    "        self.linear = linear\n",
    "        self.angular = angular\n",
    "\n",
    "class Point2D:\n",
    "    def __init__(self, x : float=0.0, y : float=0.0):\n",
    "        self.x = x\n",
    "        self.y = y"
   ]
  }
 ],
 "metadata": {
  "kernelspec": {
   "display_name": "Python 3 (ipykernel)",
   "language": "python",
   "name": "python3"
  },
  "language_info": {
   "codemirror_mode": {
    "name": "ipython",
    "version": 3
   },
   "file_extension": ".py",
   "mimetype": "text/x-python",
   "name": "python",
   "nbconvert_exporter": "python",
   "pygments_lexer": "ipython3",
   "version": "3.12.7"
  }
 },
 "nbformat": 4,
 "nbformat_minor": 5
}
